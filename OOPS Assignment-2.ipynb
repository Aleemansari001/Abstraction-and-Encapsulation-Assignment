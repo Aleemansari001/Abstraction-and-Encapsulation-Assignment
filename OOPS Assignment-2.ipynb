{
 "cells": [
  {
   "cell_type": "markdown",
   "id": "9087658f-96fa-40af-9127-0e3a65ead528",
   "metadata": {},
   "source": [
    "Abstraction and Encapsulation Assignment"
   ]
  },
  {
   "cell_type": "markdown",
   "id": "16155758-40b4-46cd-88b7-677c762fca47",
   "metadata": {},
   "source": [
    "Q.1"
   ]
  },
  {
   "cell_type": "markdown",
   "id": "ae4e5dc7-cb0e-4769-b012-ccd379c2bd26",
   "metadata": {},
   "source": [
    "Abstraction is the process of hiding the internal details of an application from the outer world. Abstraction is used to describe things in simple terms."
   ]
  },
  {
   "cell_type": "code",
   "execution_count": 2,
   "id": "82d4a319-c8a1-4701-bb6c-ef3b34cd7570",
   "metadata": {},
   "outputs": [],
   "source": [
    "import abc\n",
    "class engineering:\n",
    "    \n",
    "    @abc.abstractmethod\n",
    "    def  cs_brach(self):\n",
    "        pass\n",
    "    \n",
    "    @abc.abstractmethod\n",
    "    def total_subjects(self):\n",
    "        pass\n",
    "    \n",
    "    @abc.abstractmethod\n",
    "    def exam_date(self):\n",
    "        pass"
   ]
  },
  {
   "cell_type": "code",
   "execution_count": 9,
   "id": "afdf3a38-a79d-4fbe-b4a1-83a6e90c77d3",
   "metadata": {},
   "outputs": [],
   "source": [
    "class student_details(engineering):\n",
    "    \n",
    "    def cs_brach(self):\n",
    "        return \"This is cs branch students details : Like Name and contact number\"\n",
    "    \n",
    "    def total_subjects(self):\n",
    "        return \"20 subjects in CS branch\""
   ]
  },
  {
   "cell_type": "code",
   "execution_count": 10,
   "id": "df427c85-7ee3-4e54-b626-e3840854ac29",
   "metadata": {},
   "outputs": [],
   "source": [
    "cs = student_details()"
   ]
  },
  {
   "cell_type": "code",
   "execution_count": 11,
   "id": "342292fe-a5de-4e16-b9a4-69e70b336d45",
   "metadata": {},
   "outputs": [
    {
     "data": {
      "text/plain": [
       "'This is cs branch students details : Like Name and contact number'"
      ]
     },
     "execution_count": 11,
     "metadata": {},
     "output_type": "execute_result"
    }
   ],
   "source": [
    "cs.cs_brach()"
   ]
  },
  {
   "cell_type": "code",
   "execution_count": 14,
   "id": "8922042f-903e-4748-b796-74d6cb280fb7",
   "metadata": {},
   "outputs": [
    {
     "data": {
      "text/plain": [
       "'20 subjects in CS branch'"
      ]
     },
     "execution_count": 14,
     "metadata": {},
     "output_type": "execute_result"
    }
   ],
   "source": [
    "cs.total_subjects()"
   ]
  },
  {
   "cell_type": "markdown",
   "id": "998f1d38-a685-4afa-b2ba-2ffb124dff42",
   "metadata": {},
   "source": [
    "Q.2"
   ]
  },
  {
   "cell_type": "markdown",
   "id": "daf56dbd-ff1b-4c36-9bb6-6831721809d7",
   "metadata": {},
   "source": [
    "Abstraction is a method of removing the unnecessary details in the code and focusing on the relevant parts. Abstraction is a way of representing some specific data.\n",
    "Encapsulation is a way of hiding the complexity of something and exposing only the parts you wish to expose."
   ]
  },
  {
   "cell_type": "markdown",
   "id": "add45197-8998-411c-b47f-3d096b639ec6",
   "metadata": {},
   "source": [
    "Ex."
   ]
  },
  {
   "cell_type": "code",
   "execution_count": 3,
   "id": "0b9ce4cd-d903-463f-b6aa-0016e6dcdc3f",
   "metadata": {},
   "outputs": [],
   "source": [
    "class car :\n",
    "    def __init__(self, year, make, model, speed) :\n",
    "        \n",
    "        self.__year = year\n",
    "        self.__make = make\n",
    "        self.__model = model\n",
    "        self.__speed = speed"
   ]
  },
  {
   "cell_type": "code",
   "execution_count": 5,
   "id": "6fca2962-d743-4502-b00b-8ca9f77c3440",
   "metadata": {},
   "outputs": [],
   "source": [
    "c = car (2023, \"Hyundai\", \"creta\", 200)"
   ]
  },
  {
   "cell_type": "code",
   "execution_count": null,
   "id": "035b22da-65a4-4e59-a2c4-f67f6e9c3bd4",
   "metadata": {},
   "outputs": [],
   "source": [
    "c.__model #wecan't see result"
   ]
  },
  {
   "cell_type": "code",
   "execution_count": 7,
   "id": "da6380db-e31a-4095-92a2-d89034fdc3e8",
   "metadata": {},
   "outputs": [
    {
     "data": {
      "text/plain": [
       "'Hyundai'"
      ]
     },
     "execution_count": 7,
     "metadata": {},
     "output_type": "execute_result"
    }
   ],
   "source": [
    "c._car__make  #but through class we can see result"
   ]
  },
  {
   "cell_type": "markdown",
   "id": "b9f320b7-035e-4c89-aaaa-6923c9253f31",
   "metadata": {},
   "source": [
    "Q.3"
   ]
  },
  {
   "cell_type": "markdown",
   "id": "2758bbd3-b2de-4e82-94ff-9a853f2aec96",
   "metadata": {},
   "source": [
    "The 'abc' module in Python library provides the infrastructure for defining custom abstract base classes. 'abc' works by marking methods of the base class as abstract. This is done by @absttractmethod decorator.\n",
    "\n",
    "The main goal of the abstract base class(abc) is to provide a standardized way to test whether an object adheres to a given specification. It can also prevent any attempt to instantiate a subclass that doesn’t override a particular method in the superclass. And finally, using an abstract class, a class can derive identity from another class without any object inheritance."
   ]
  },
  {
   "cell_type": "code",
   "execution_count": 8,
   "id": "cb3c3ce8-f46b-4bad-985a-9f1bfa1cc0f0",
   "metadata": {},
   "outputs": [],
   "source": [
    "import abc\n",
    "class pwskills:\n",
    "    @abc.abstractmethod\n",
    "    def student_id(self):\n",
    "        pass"
   ]
  },
  {
   "cell_type": "markdown",
   "id": "28800924-7aa3-4395-8e3a-4ff3da041284",
   "metadata": {},
   "source": [
    "Q.4"
   ]
  },
  {
   "cell_type": "markdown",
   "id": "a1a6665a-8af1-4ab6-9373-8758242aeadb",
   "metadata": {},
   "source": [
    "Data Abstraction achieved through creating abstract classes and inheriting them later. Before discussing what abstract classes are, let us have a brief introduction of inheritance. Inheritance in OOP is a way through which one class inherits the attributes and methods of another class."
   ]
  },
  {
   "cell_type": "markdown",
   "id": "ee593275-1498-492c-b142-e7448ecaad81",
   "metadata": {},
   "source": [
    "Ex."
   ]
  },
  {
   "cell_type": "code",
   "execution_count": 9,
   "id": "5a4ecfe5-6ca4-4f6e-8ecb-7c2eba95b887",
   "metadata": {},
   "outputs": [],
   "source": [
    "import abc\n",
    "class pwskills:                #creating absract class\n",
    "    @abc.abstractmethod   \n",
    "    def student_id(self):\n",
    "        pass"
   ]
  },
  {
   "cell_type": "markdown",
   "id": "d895d4e0-58bc-4306-b688-91ca3bf2050d",
   "metadata": {},
   "source": [
    "Q.5"
   ]
  },
  {
   "cell_type": "markdown",
   "id": "448ee897-fedc-47fa-97aa-9902200703ab",
   "metadata": {},
   "source": [
    "Abstract classes cannot be instantiated, but we can be subclassed. When an abstract class is subclassed, the subclass usually provides implementations for all of the abstract methods in its parent class. However, if it does not, then the subclass must also be declared abstract."
   ]
  }
 ],
 "metadata": {
  "kernelspec": {
   "display_name": "Python 3 (ipykernel)",
   "language": "python",
   "name": "python3"
  },
  "language_info": {
   "codemirror_mode": {
    "name": "ipython",
    "version": 3
   },
   "file_extension": ".py",
   "mimetype": "text/x-python",
   "name": "python",
   "nbconvert_exporter": "python",
   "pygments_lexer": "ipython3",
   "version": "3.10.8"
  }
 },
 "nbformat": 4,
 "nbformat_minor": 5
}
